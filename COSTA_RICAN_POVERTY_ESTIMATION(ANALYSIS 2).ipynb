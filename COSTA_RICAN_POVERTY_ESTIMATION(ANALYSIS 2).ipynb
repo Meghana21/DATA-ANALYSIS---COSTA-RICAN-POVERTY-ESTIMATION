{
 "cells": [
  {
   "cell_type": "code",
   "execution_count": null,
   "metadata": {},
   "outputs": [],
   "source": [
    "'''\n",
    "\n",
    "CASE STUDY BACKGROUND/SITUATION - \n",
    "\n",
    "1.Generally,in any country it is importatnt for the government or banks to identify the right \n",
    "households which are in need of aid,to implement their social welfare programs efficiently.\n",
    "\n",
    "2.It was generally observed that people belonging to economically backward areas don't have enough \n",
    "knowledge in this regard to present the government with necessary documents(income/expenditure records etc..),to prove\n",
    "that they qualify for the aid.\n",
    "\n",
    "3.The country whose households' poverty levels we are interested in analysing is Costa Rica,its one of the Latin\n",
    "American Countries.\n",
    "\n",
    "4.In Latin America, a popular method, called the Proxy Means Test, is used to make the decision of whether people\n",
    "qualify for the aid or not.\n",
    "\n",
    "5.In this PROXY MEANS TEST method,agencies look at a FAMILY’s OBSERVABLE ATTRIBUTES such as the \n",
    "MATERIAL of the CEILING, number of ROOMS in the household, number of PEOPLE in the household, etc, to \n",
    "conclude about a family’s QUALIFICATION for the AID.\n",
    "\n",
    "6.However, ACCURACY remains a problem when it comes to the Proxy Means Test.\n",
    "\n",
    "'''"
   ]
  },
  {
   "cell_type": "code",
   "execution_count": null,
   "metadata": {},
   "outputs": [],
   "source": [
    "'''\n",
    "\n",
    "SOLUTION - We need to come up with new methods that could effectively direct the government/banks towards the \n",
    "HOUSEHOLDS that are in need of social welfare assistance.We need to accurately identify such economically \n",
    "backward households using machine learning algorithms,\n",
    "we need to classify the people into different groups that explain their economic status.\n",
    "\n",
    "'''"
   ]
  },
  {
   "cell_type": "code",
   "execution_count": null,
   "metadata": {},
   "outputs": [],
   "source": [
    "'''\n",
    "DATA DESCRIPTION -\n",
    "\n",
    "The number of columns is 143. Each record is associated with a single person.\n",
    "The descriptions for a few columns are :-\n",
    "\n",
    "a)Target: denotes poverty level 1 = extreme poverty, 2 = moderate poverty, 3 = vulnerable households,\n",
    "4 = non-vulnerable household \n",
    "\n",
    "b)Idhogar: A unique identifier for each household. People belonging to a single household are identified\n",
    "by this column. \n",
    "\n",
    "c)v2a1: Monthly rent paid by each household. \n",
    "\n",
    "d)rooms: the number of rooms in the house. \n",
    "\n",
    "e)escolari: years of schooling etc.\n",
    "\n",
    "'''"
   ]
  },
  {
   "cell_type": "code",
   "execution_count": null,
   "metadata": {},
   "outputs": [],
   "source": [
    "'''\n",
    "\n",
    "OTHER ATTRIBUTES DESCRIPTION -\n",
    "\n",
    "v2a1, Monthly rent payment\n",
    "hacdor, =1 Overcrowding by bedrooms\n",
    "rooms,  number of all rooms in the house\n",
    "hacapo, =1 Overcrowding by rooms\n",
    "v14a, =1 has bathroom in the household\n",
    "refrig, =1 if the household has refrigerator\n",
    "v18q, owns a tablet\n",
    "v18q1, number of tablets household owns\n",
    "r4h1, Males younger than 12 years of age\n",
    "r4h2, Males 12 years of age and older\n",
    "r4h3, Total males in the household\n",
    "r4m1, Females younger than 12 years of age\n",
    "r4m2, Females 12 years of age and older\n",
    "r4m3, Total females in the household\n",
    "r4t1, persons younger than 12 years of age\n",
    "r4t2, persons 12 years of age and older\n",
    "r4t3, Total persons in the household\n",
    "tamhog, size of the household\n",
    "tamviv, number of persons living in the household\n",
    "escolari, years of schooling\n",
    "rez_esc, Years behind in school\n",
    "hhsize, household size\n",
    "paredblolad, =1 if predominant material on the outside wall is block or brick\n",
    "paredzocalo, \"=1 if predominant material on the outside wall is socket (wood,  zinc or absbesto\"\n",
    "paredpreb, =1 if predominant material on the outside wall is prefabricated or cement\n",
    "pareddes, =1 if predominant material on the outside wall is waste material\n",
    "paredmad, =1 if predominant material on the outside wall is wood\n",
    "paredzinc, =1 if predominant material on the outside wall is zink\n",
    "paredfibras, =1 if predominant material on the outside wall is natural fibers\n",
    "paredother, =1 if predominant material on the outside wall is other\n",
    "pisomoscer, \"=1 if predominant material on the floor is mosaic,  ceramic,  terrazo\"\n",
    "pisocemento, =1 if predominant material on the floor is cement\n",
    "pisoother, =1 if predominant material on the floor is other\n",
    "pisonatur, =1 if predominant material on the floor is  natural material\n",
    "pisonotiene, =1 if no floor at the household\n",
    "pisomadera, =1 if predominant material on the floor is wood\n",
    "techozinc, =1 if predominant material on the roof is metal foil or zink\n",
    "techoentrepiso, \"=1 if predominant material on the roof is fiber cement,  mezzanine \"\n",
    "techocane, =1 if predominant material on the roof is natural fibers\n",
    "techootro, =1 if predominant material on the roof is other\n",
    "cielorazo, =1 if the house has ceiling\n",
    "abastaguadentro, =1 if water provision inside the dwelling\n",
    "abastaguafuera, =1 if water provision outside the dwelling\n",
    "abastaguano, =1 if no water provision\n",
    "public, \"=1 electricity from CNFL,  ICE,  ESPH/JASEC\"\n",
    "planpri, =1 electricity from private plant\n",
    "noelec, =1 no electricity in the dwelling\n",
    "coopele, =1 electricity from cooperative\n",
    "sanitario1, =1 no toilet in the dwelling\n",
    "sanitario2, =1 toilet connected to sewer or cesspool\n",
    "sanitario3, =1 toilet connected to  septic tank\n",
    "sanitario5, =1 toilet connected to black hole or letrine\n",
    "sanitario6, =1 toilet connected to other system\n",
    "energcocinar1, =1 no main source of energy used for cooking (no kitchen)\n",
    "energcocinar2, =1 main source of energy used for cooking electricity\n",
    "energcocinar3, =1 main source of energy used for cooking gas\n",
    "energcocinar4, =1 main source of energy used for cooking wood charcoal\n",
    "elimbasu1, =1 if rubbish disposal mainly by tanker truck\n",
    "elimbasu2, =1 if rubbish disposal mainly by botan hollow or buried\n",
    "elimbasu3, =1 if rubbish disposal mainly by burning\n",
    "elimbasu4, =1 if rubbish disposal mainly by throwing in an unoccupied space\n",
    "elimbasu5, \"=1 if rubbish disposal mainly by throwing in river,  creek or sea\"\n",
    "elimbasu6, =1 if rubbish disposal mainly other\n",
    "epared1, =1 if walls are bad\n",
    "epared2, =1 if walls are regular\n",
    "epared3, =1 if walls are good\n",
    "etecho1, =1 if roof are bad\n",
    "etecho2, =1 if roof are regular\n",
    "etecho3, =1 if roof are good\n",
    "eviv1, =1 if floor are bad\n",
    "eviv2, =1 if floor are regular\n",
    "eviv3, =1 if floor are good\n",
    "dis, =1 if disable person\n",
    "male, =1 if male\n",
    "female, =1 if female\n",
    "estadocivil1, =1 if less than 10 years old\n",
    "estadocivil2, =1 if free or coupled uunion\n",
    "estadocivil3, =1 if married\n",
    "estadocivil4, =1 if divorced\n",
    "estadocivil5, =1 if separated\n",
    "estadocivil6, =1 if widow/er\n",
    "estadocivil7, =1 if single\n",
    "parentesco1, =1 if household head\n",
    "parentesco2, =1 if spouse/partner\n",
    "parentesco3, =1 if son/doughter\n",
    "parentesco4, =1 if stepson/doughter\n",
    "parentesco5, =1 if son/doughter in law\n",
    "parentesco6, =1 if grandson/doughter\n",
    "parentesco7, =1 if mother/father\n",
    "parentesco8, =1 if father/mother in law\n",
    "parentesco9, =1 if brother/sister\n",
    "parentesco10, =1 if brother/sister in law\n",
    "parentesco11, =1 if other family member\n",
    "parentesco12, =1 if other non family member\n",
    "idhogar, Household level identifier\n",
    "hogar_nin, Number of children 0 to 19 in household\n",
    "hogar_adul, Number of adults in household\n",
    "hogar_mayor, # of individuals 65+ in the household\n",
    "hogar_total, # of total individuals in the household\n",
    "dependency, Dependency rate, calculated = (number of members of the household younger than 19 or older than 64)/(number of member of household between 19 and 64)\n",
    "edjefe, years of education of male head of household, based on the interaction of escolari (years of education), head of household and gender, yes=1 and no=0\n",
    "edjefa, years of education of female head of household, based on the interaction of escolari (years of education), head of household and gender, yes=1 and no=0\n",
    "meaneduc,average years of education for adults (18+)\n",
    "instlevel1, =1 no level of education\n",
    "instlevel2, =1 incomplete primary\n",
    "instlevel3, =1 complete primary\n",
    "instlevel4, =1 incomplete academic secondary level\n",
    "instlevel5, =1 complete academic secondary level\n",
    "instlevel6, =1 incomplete technical secondary level\n",
    "instlevel7, =1 complete technical secondary level\n",
    "instlevel8, =1 undergraduate and higher education\n",
    "instlevel9, =1 postgraduate higher education\n",
    "bedrooms, number of bedrooms\n",
    "overcrowding, # persons per room\n",
    "tipovivi1, =1 own and fully paid house\n",
    "tipovivi2, \"=1 own,  paying in installments\"\n",
    "tipovivi3, =1 rented\n",
    "tipovivi4, =1 precarious\n",
    "tipovivi5, \"=1 other(assigned,  borrowed)\"\n",
    "computer, =1 if the household has notebook or desktop computer\n",
    "television, =1 if the household has TV\n",
    "mobilephone, =1 if mobile phone\n",
    "qmobilephone, # of mobile phones\n",
    "lugar1, =1 region Central\n",
    "lugar2, =1 region Chorotega\n",
    "lugar3, =1 region PacÃƒÂfico central\n",
    "lugar4, =1 region Brunca\n",
    "lugar5, =1 region Huetar AtlÃƒÂ¡ntica\n",
    "lugar6, =1 region Huetar Norte\n",
    "area1, =1 zona urbana\n",
    "area2, =2 zona rural\n",
    "age, Age in years\n",
    "SQBescolari, escolari squared\n",
    "SQBage, age squared\n",
    "SQBhogar_total, hogar_total squared\n",
    "SQBedjefe, edjefe squared\n",
    "SQBhogar_nin, hogar_nin squared\n",
    "SQBovercrowding, overcrowding squared\n",
    "SQBdependency, dependency squared\n",
    "SQBmeaned, square of the mean years of education of adults (>=18) in the household\n",
    "agesq, Age squared\n",
    "\n",
    "'''"
   ]
  },
  {
   "cell_type": "code",
   "execution_count": null,
   "metadata": {},
   "outputs": [],
   "source": [
    "'''\n",
    "The Analysis comprises of :-\n",
    "a)exploratory data analysis through visualization,\n",
    "b)approaches to tackle data imbalance problems,\n",
    "c)model development, fine-tuning, \n",
    "d)performance metrics and visualization of results.\n",
    "'''"
   ]
  },
  {
   "cell_type": "markdown",
   "metadata": {},
   "source": [
    "## 1.UNDERSTANDING THE DATA"
   ]
  },
  {
   "cell_type": "code",
   "execution_count": 38,
   "metadata": {},
   "outputs": [],
   "source": [
    "import numpy as np\n",
    "import pandas as pd\n",
    "import matplotlib.pyplot as plt\n",
    "import seaborn as sns"
   ]
  },
  {
   "cell_type": "code",
   "execution_count": 39,
   "metadata": {},
   "outputs": [],
   "source": [
    "dataset = pd.read_csv('data1.csv')\n",
    "pd.set_option(\"display.max_columns\", 150)"
   ]
  },
  {
   "cell_type": "code",
   "execution_count": 40,
   "metadata": {},
   "outputs": [
    {
     "data": {
      "text/html": [
       "<div>\n",
       "<style scoped>\n",
       "    .dataframe tbody tr th:only-of-type {\n",
       "        vertical-align: middle;\n",
       "    }\n",
       "\n",
       "    .dataframe tbody tr th {\n",
       "        vertical-align: top;\n",
       "    }\n",
       "\n",
       "    .dataframe thead th {\n",
       "        text-align: right;\n",
       "    }\n",
       "</style>\n",
       "<table border=\"1\" class=\"dataframe\">\n",
       "  <thead>\n",
       "    <tr style=\"text-align: right;\">\n",
       "      <th></th>\n",
       "      <th>Id</th>\n",
       "      <th>v2a1</th>\n",
       "      <th>hacdor</th>\n",
       "      <th>rooms</th>\n",
       "      <th>hacapo</th>\n",
       "      <th>v14a</th>\n",
       "      <th>refrig</th>\n",
       "      <th>v18q</th>\n",
       "      <th>v18q1</th>\n",
       "      <th>r4h1</th>\n",
       "      <th>r4h2</th>\n",
       "      <th>r4h3</th>\n",
       "      <th>r4m1</th>\n",
       "      <th>r4m2</th>\n",
       "      <th>r4m3</th>\n",
       "      <th>r4t1</th>\n",
       "      <th>r4t2</th>\n",
       "      <th>r4t3</th>\n",
       "      <th>tamhog</th>\n",
       "      <th>tamviv</th>\n",
       "      <th>escolari</th>\n",
       "      <th>rez_esc</th>\n",
       "      <th>hhsize</th>\n",
       "      <th>paredblolad</th>\n",
       "      <th>paredzocalo</th>\n",
       "      <th>paredpreb</th>\n",
       "      <th>pareddes</th>\n",
       "      <th>paredmad</th>\n",
       "      <th>paredzinc</th>\n",
       "      <th>paredfibras</th>\n",
       "      <th>paredother</th>\n",
       "      <th>pisomoscer</th>\n",
       "      <th>pisocemento</th>\n",
       "      <th>pisoother</th>\n",
       "      <th>pisonatur</th>\n",
       "      <th>pisonotiene</th>\n",
       "      <th>pisomadera</th>\n",
       "      <th>techozinc</th>\n",
       "      <th>techoentrepiso</th>\n",
       "      <th>techocane</th>\n",
       "      <th>techootro</th>\n",
       "      <th>cielorazo</th>\n",
       "      <th>abastaguadentro</th>\n",
       "      <th>abastaguafuera</th>\n",
       "      <th>abastaguano</th>\n",
       "      <th>public</th>\n",
       "      <th>planpri</th>\n",
       "      <th>noelec</th>\n",
       "      <th>coopele</th>\n",
       "      <th>sanitario1</th>\n",
       "      <th>sanitario2</th>\n",
       "      <th>sanitario3</th>\n",
       "      <th>sanitario5</th>\n",
       "      <th>sanitario6</th>\n",
       "      <th>energcocinar1</th>\n",
       "      <th>energcocinar2</th>\n",
       "      <th>energcocinar3</th>\n",
       "      <th>energcocinar4</th>\n",
       "      <th>elimbasu1</th>\n",
       "      <th>elimbasu2</th>\n",
       "      <th>elimbasu3</th>\n",
       "      <th>elimbasu4</th>\n",
       "      <th>elimbasu5</th>\n",
       "      <th>elimbasu6</th>\n",
       "      <th>epared1</th>\n",
       "      <th>epared2</th>\n",
       "      <th>epared3</th>\n",
       "      <th>etecho1</th>\n",
       "      <th>etecho2</th>\n",
       "      <th>etecho3</th>\n",
       "      <th>eviv1</th>\n",
       "      <th>eviv2</th>\n",
       "      <th>eviv3</th>\n",
       "      <th>dis</th>\n",
       "      <th>male</th>\n",
       "      <th>female</th>\n",
       "      <th>estadocivil1</th>\n",
       "      <th>estadocivil2</th>\n",
       "      <th>estadocivil3</th>\n",
       "      <th>estadocivil4</th>\n",
       "      <th>estadocivil5</th>\n",
       "      <th>estadocivil6</th>\n",
       "      <th>estadocivil7</th>\n",
       "      <th>parentesco1</th>\n",
       "      <th>parentesco2</th>\n",
       "      <th>parentesco3</th>\n",
       "      <th>parentesco4</th>\n",
       "      <th>parentesco5</th>\n",
       "      <th>parentesco6</th>\n",
       "      <th>parentesco7</th>\n",
       "      <th>parentesco8</th>\n",
       "      <th>parentesco9</th>\n",
       "      <th>parentesco10</th>\n",
       "      <th>parentesco11</th>\n",
       "      <th>parentesco12</th>\n",
       "      <th>idhogar</th>\n",
       "      <th>hogar_nin</th>\n",
       "      <th>hogar_adul</th>\n",
       "      <th>hogar_mayor</th>\n",
       "      <th>hogar_total</th>\n",
       "      <th>dependency</th>\n",
       "      <th>edjefe</th>\n",
       "      <th>edjefa</th>\n",
       "      <th>meaneduc</th>\n",
       "      <th>instlevel1</th>\n",
       "      <th>instlevel2</th>\n",
       "      <th>instlevel3</th>\n",
       "      <th>instlevel4</th>\n",
       "      <th>instlevel5</th>\n",
       "      <th>instlevel6</th>\n",
       "      <th>instlevel7</th>\n",
       "      <th>instlevel8</th>\n",
       "      <th>instlevel9</th>\n",
       "      <th>bedrooms</th>\n",
       "      <th>overcrowding</th>\n",
       "      <th>tipovivi1</th>\n",
       "      <th>tipovivi2</th>\n",
       "      <th>tipovivi3</th>\n",
       "      <th>tipovivi4</th>\n",
       "      <th>tipovivi5</th>\n",
       "      <th>computer</th>\n",
       "      <th>television</th>\n",
       "      <th>mobilephone</th>\n",
       "      <th>qmobilephone</th>\n",
       "      <th>lugar1</th>\n",
       "      <th>lugar2</th>\n",
       "      <th>lugar3</th>\n",
       "      <th>lugar4</th>\n",
       "      <th>lugar5</th>\n",
       "      <th>lugar6</th>\n",
       "      <th>area1</th>\n",
       "      <th>area2</th>\n",
       "      <th>age</th>\n",
       "      <th>SQBescolari</th>\n",
       "      <th>SQBage</th>\n",
       "      <th>SQBhogar_total</th>\n",
       "      <th>SQBedjefe</th>\n",
       "      <th>SQBhogar_nin</th>\n",
       "      <th>SQBovercrowding</th>\n",
       "      <th>SQBdependency</th>\n",
       "      <th>SQBmeaned</th>\n",
       "      <th>agesq</th>\n",
       "      <th>Target</th>\n",
       "    </tr>\n",
       "  </thead>\n",
       "  <tbody>\n",
       "    <tr>\n",
       "      <td>0</td>\n",
       "      <td>ID_279628684</td>\n",
       "      <td>190000.0</td>\n",
       "      <td>0</td>\n",
       "      <td>3</td>\n",
       "      <td>0</td>\n",
       "      <td>1</td>\n",
       "      <td>1</td>\n",
       "      <td>0</td>\n",
       "      <td>NaN</td>\n",
       "      <td>0</td>\n",
       "      <td>1</td>\n",
       "      <td>1</td>\n",
       "      <td>0</td>\n",
       "      <td>0</td>\n",
       "      <td>0</td>\n",
       "      <td>0</td>\n",
       "      <td>1</td>\n",
       "      <td>1</td>\n",
       "      <td>1</td>\n",
       "      <td>1</td>\n",
       "      <td>10</td>\n",
       "      <td>NaN</td>\n",
       "      <td>1</td>\n",
       "      <td>1</td>\n",
       "      <td>0</td>\n",
       "      <td>0</td>\n",
       "      <td>0</td>\n",
       "      <td>0</td>\n",
       "      <td>0</td>\n",
       "      <td>0</td>\n",
       "      <td>0</td>\n",
       "      <td>1</td>\n",
       "      <td>0</td>\n",
       "      <td>0</td>\n",
       "      <td>0</td>\n",
       "      <td>0</td>\n",
       "      <td>0</td>\n",
       "      <td>0</td>\n",
       "      <td>1</td>\n",
       "      <td>0</td>\n",
       "      <td>0</td>\n",
       "      <td>1</td>\n",
       "      <td>1</td>\n",
       "      <td>0</td>\n",
       "      <td>0</td>\n",
       "      <td>1</td>\n",
       "      <td>0</td>\n",
       "      <td>0</td>\n",
       "      <td>0</td>\n",
       "      <td>0</td>\n",
       "      <td>1</td>\n",
       "      <td>0</td>\n",
       "      <td>0</td>\n",
       "      <td>0</td>\n",
       "      <td>0</td>\n",
       "      <td>0</td>\n",
       "      <td>1</td>\n",
       "      <td>0</td>\n",
       "      <td>1</td>\n",
       "      <td>0</td>\n",
       "      <td>0</td>\n",
       "      <td>0</td>\n",
       "      <td>0</td>\n",
       "      <td>0</td>\n",
       "      <td>0</td>\n",
       "      <td>1</td>\n",
       "      <td>0</td>\n",
       "      <td>1</td>\n",
       "      <td>0</td>\n",
       "      <td>0</td>\n",
       "      <td>1</td>\n",
       "      <td>0</td>\n",
       "      <td>0</td>\n",
       "      <td>0</td>\n",
       "      <td>1</td>\n",
       "      <td>0</td>\n",
       "      <td>0</td>\n",
       "      <td>0</td>\n",
       "      <td>0</td>\n",
       "      <td>1</td>\n",
       "      <td>0</td>\n",
       "      <td>0</td>\n",
       "      <td>0</td>\n",
       "      <td>1</td>\n",
       "      <td>0</td>\n",
       "      <td>0</td>\n",
       "      <td>0</td>\n",
       "      <td>0</td>\n",
       "      <td>0</td>\n",
       "      <td>0</td>\n",
       "      <td>0</td>\n",
       "      <td>0</td>\n",
       "      <td>0</td>\n",
       "      <td>0</td>\n",
       "      <td>0</td>\n",
       "      <td>21eb7fcc1</td>\n",
       "      <td>0</td>\n",
       "      <td>1</td>\n",
       "      <td>0</td>\n",
       "      <td>1</td>\n",
       "      <td>no</td>\n",
       "      <td>10</td>\n",
       "      <td>no</td>\n",
       "      <td>10.0</td>\n",
       "      <td>0</td>\n",
       "      <td>0</td>\n",
       "      <td>0</td>\n",
       "      <td>1</td>\n",
       "      <td>0</td>\n",
       "      <td>0</td>\n",
       "      <td>0</td>\n",
       "      <td>0</td>\n",
       "      <td>0</td>\n",
       "      <td>1</td>\n",
       "      <td>1.000000</td>\n",
       "      <td>0</td>\n",
       "      <td>0</td>\n",
       "      <td>1</td>\n",
       "      <td>0</td>\n",
       "      <td>0</td>\n",
       "      <td>0</td>\n",
       "      <td>0</td>\n",
       "      <td>1</td>\n",
       "      <td>1</td>\n",
       "      <td>1</td>\n",
       "      <td>0</td>\n",
       "      <td>0</td>\n",
       "      <td>0</td>\n",
       "      <td>0</td>\n",
       "      <td>0</td>\n",
       "      <td>1</td>\n",
       "      <td>0</td>\n",
       "      <td>43</td>\n",
       "      <td>100</td>\n",
       "      <td>1849</td>\n",
       "      <td>1</td>\n",
       "      <td>100</td>\n",
       "      <td>0</td>\n",
       "      <td>1.000000</td>\n",
       "      <td>0.0</td>\n",
       "      <td>100.0</td>\n",
       "      <td>1849</td>\n",
       "      <td>4</td>\n",
       "    </tr>\n",
       "    <tr>\n",
       "      <td>1</td>\n",
       "      <td>ID_f29eb3ddd</td>\n",
       "      <td>135000.0</td>\n",
       "      <td>0</td>\n",
       "      <td>4</td>\n",
       "      <td>0</td>\n",
       "      <td>1</td>\n",
       "      <td>1</td>\n",
       "      <td>1</td>\n",
       "      <td>1.0</td>\n",
       "      <td>0</td>\n",
       "      <td>1</td>\n",
       "      <td>1</td>\n",
       "      <td>0</td>\n",
       "      <td>0</td>\n",
       "      <td>0</td>\n",
       "      <td>0</td>\n",
       "      <td>1</td>\n",
       "      <td>1</td>\n",
       "      <td>1</td>\n",
       "      <td>1</td>\n",
       "      <td>12</td>\n",
       "      <td>NaN</td>\n",
       "      <td>1</td>\n",
       "      <td>0</td>\n",
       "      <td>0</td>\n",
       "      <td>0</td>\n",
       "      <td>0</td>\n",
       "      <td>1</td>\n",
       "      <td>0</td>\n",
       "      <td>0</td>\n",
       "      <td>0</td>\n",
       "      <td>0</td>\n",
       "      <td>0</td>\n",
       "      <td>0</td>\n",
       "      <td>0</td>\n",
       "      <td>0</td>\n",
       "      <td>1</td>\n",
       "      <td>1</td>\n",
       "      <td>0</td>\n",
       "      <td>0</td>\n",
       "      <td>0</td>\n",
       "      <td>1</td>\n",
       "      <td>1</td>\n",
       "      <td>0</td>\n",
       "      <td>0</td>\n",
       "      <td>1</td>\n",
       "      <td>0</td>\n",
       "      <td>0</td>\n",
       "      <td>0</td>\n",
       "      <td>0</td>\n",
       "      <td>1</td>\n",
       "      <td>0</td>\n",
       "      <td>0</td>\n",
       "      <td>0</td>\n",
       "      <td>0</td>\n",
       "      <td>1</td>\n",
       "      <td>0</td>\n",
       "      <td>0</td>\n",
       "      <td>1</td>\n",
       "      <td>0</td>\n",
       "      <td>0</td>\n",
       "      <td>0</td>\n",
       "      <td>0</td>\n",
       "      <td>0</td>\n",
       "      <td>0</td>\n",
       "      <td>1</td>\n",
       "      <td>0</td>\n",
       "      <td>0</td>\n",
       "      <td>1</td>\n",
       "      <td>0</td>\n",
       "      <td>0</td>\n",
       "      <td>1</td>\n",
       "      <td>0</td>\n",
       "      <td>0</td>\n",
       "      <td>1</td>\n",
       "      <td>0</td>\n",
       "      <td>0</td>\n",
       "      <td>0</td>\n",
       "      <td>0</td>\n",
       "      <td>1</td>\n",
       "      <td>0</td>\n",
       "      <td>0</td>\n",
       "      <td>0</td>\n",
       "      <td>1</td>\n",
       "      <td>0</td>\n",
       "      <td>0</td>\n",
       "      <td>0</td>\n",
       "      <td>0</td>\n",
       "      <td>0</td>\n",
       "      <td>0</td>\n",
       "      <td>0</td>\n",
       "      <td>0</td>\n",
       "      <td>0</td>\n",
       "      <td>0</td>\n",
       "      <td>0</td>\n",
       "      <td>0e5d7a658</td>\n",
       "      <td>0</td>\n",
       "      <td>1</td>\n",
       "      <td>1</td>\n",
       "      <td>1</td>\n",
       "      <td>8</td>\n",
       "      <td>12</td>\n",
       "      <td>no</td>\n",
       "      <td>12.0</td>\n",
       "      <td>0</td>\n",
       "      <td>0</td>\n",
       "      <td>0</td>\n",
       "      <td>0</td>\n",
       "      <td>0</td>\n",
       "      <td>0</td>\n",
       "      <td>0</td>\n",
       "      <td>1</td>\n",
       "      <td>0</td>\n",
       "      <td>1</td>\n",
       "      <td>1.000000</td>\n",
       "      <td>0</td>\n",
       "      <td>0</td>\n",
       "      <td>1</td>\n",
       "      <td>0</td>\n",
       "      <td>0</td>\n",
       "      <td>0</td>\n",
       "      <td>0</td>\n",
       "      <td>1</td>\n",
       "      <td>1</td>\n",
       "      <td>1</td>\n",
       "      <td>0</td>\n",
       "      <td>0</td>\n",
       "      <td>0</td>\n",
       "      <td>0</td>\n",
       "      <td>0</td>\n",
       "      <td>1</td>\n",
       "      <td>0</td>\n",
       "      <td>67</td>\n",
       "      <td>144</td>\n",
       "      <td>4489</td>\n",
       "      <td>1</td>\n",
       "      <td>144</td>\n",
       "      <td>0</td>\n",
       "      <td>1.000000</td>\n",
       "      <td>64.0</td>\n",
       "      <td>144.0</td>\n",
       "      <td>4489</td>\n",
       "      <td>4</td>\n",
       "    </tr>\n",
       "    <tr>\n",
       "      <td>2</td>\n",
       "      <td>ID_68de51c94</td>\n",
       "      <td>NaN</td>\n",
       "      <td>0</td>\n",
       "      <td>8</td>\n",
       "      <td>0</td>\n",
       "      <td>1</td>\n",
       "      <td>1</td>\n",
       "      <td>0</td>\n",
       "      <td>NaN</td>\n",
       "      <td>0</td>\n",
       "      <td>0</td>\n",
       "      <td>0</td>\n",
       "      <td>0</td>\n",
       "      <td>1</td>\n",
       "      <td>1</td>\n",
       "      <td>0</td>\n",
       "      <td>1</td>\n",
       "      <td>1</td>\n",
       "      <td>1</td>\n",
       "      <td>1</td>\n",
       "      <td>11</td>\n",
       "      <td>NaN</td>\n",
       "      <td>1</td>\n",
       "      <td>0</td>\n",
       "      <td>0</td>\n",
       "      <td>0</td>\n",
       "      <td>0</td>\n",
       "      <td>1</td>\n",
       "      <td>0</td>\n",
       "      <td>0</td>\n",
       "      <td>0</td>\n",
       "      <td>1</td>\n",
       "      <td>0</td>\n",
       "      <td>0</td>\n",
       "      <td>0</td>\n",
       "      <td>0</td>\n",
       "      <td>0</td>\n",
       "      <td>1</td>\n",
       "      <td>0</td>\n",
       "      <td>0</td>\n",
       "      <td>0</td>\n",
       "      <td>1</td>\n",
       "      <td>1</td>\n",
       "      <td>0</td>\n",
       "      <td>0</td>\n",
       "      <td>1</td>\n",
       "      <td>0</td>\n",
       "      <td>0</td>\n",
       "      <td>0</td>\n",
       "      <td>0</td>\n",
       "      <td>1</td>\n",
       "      <td>0</td>\n",
       "      <td>0</td>\n",
       "      <td>0</td>\n",
       "      <td>0</td>\n",
       "      <td>1</td>\n",
       "      <td>0</td>\n",
       "      <td>0</td>\n",
       "      <td>1</td>\n",
       "      <td>0</td>\n",
       "      <td>0</td>\n",
       "      <td>0</td>\n",
       "      <td>0</td>\n",
       "      <td>0</td>\n",
       "      <td>0</td>\n",
       "      <td>1</td>\n",
       "      <td>0</td>\n",
       "      <td>0</td>\n",
       "      <td>0</td>\n",
       "      <td>1</td>\n",
       "      <td>0</td>\n",
       "      <td>0</td>\n",
       "      <td>1</td>\n",
       "      <td>1</td>\n",
       "      <td>0</td>\n",
       "      <td>1</td>\n",
       "      <td>0</td>\n",
       "      <td>0</td>\n",
       "      <td>0</td>\n",
       "      <td>0</td>\n",
       "      <td>0</td>\n",
       "      <td>1</td>\n",
       "      <td>0</td>\n",
       "      <td>1</td>\n",
       "      <td>0</td>\n",
       "      <td>0</td>\n",
       "      <td>0</td>\n",
       "      <td>0</td>\n",
       "      <td>0</td>\n",
       "      <td>0</td>\n",
       "      <td>0</td>\n",
       "      <td>0</td>\n",
       "      <td>0</td>\n",
       "      <td>0</td>\n",
       "      <td>0</td>\n",
       "      <td>2c7317ea8</td>\n",
       "      <td>0</td>\n",
       "      <td>1</td>\n",
       "      <td>1</td>\n",
       "      <td>1</td>\n",
       "      <td>8</td>\n",
       "      <td>no</td>\n",
       "      <td>11</td>\n",
       "      <td>11.0</td>\n",
       "      <td>0</td>\n",
       "      <td>0</td>\n",
       "      <td>0</td>\n",
       "      <td>0</td>\n",
       "      <td>1</td>\n",
       "      <td>0</td>\n",
       "      <td>0</td>\n",
       "      <td>0</td>\n",
       "      <td>0</td>\n",
       "      <td>2</td>\n",
       "      <td>0.500000</td>\n",
       "      <td>1</td>\n",
       "      <td>0</td>\n",
       "      <td>0</td>\n",
       "      <td>0</td>\n",
       "      <td>0</td>\n",
       "      <td>0</td>\n",
       "      <td>0</td>\n",
       "      <td>0</td>\n",
       "      <td>0</td>\n",
       "      <td>1</td>\n",
       "      <td>0</td>\n",
       "      <td>0</td>\n",
       "      <td>0</td>\n",
       "      <td>0</td>\n",
       "      <td>0</td>\n",
       "      <td>1</td>\n",
       "      <td>0</td>\n",
       "      <td>92</td>\n",
       "      <td>121</td>\n",
       "      <td>8464</td>\n",
       "      <td>1</td>\n",
       "      <td>0</td>\n",
       "      <td>0</td>\n",
       "      <td>0.250000</td>\n",
       "      <td>64.0</td>\n",
       "      <td>121.0</td>\n",
       "      <td>8464</td>\n",
       "      <td>4</td>\n",
       "    </tr>\n",
       "    <tr>\n",
       "      <td>3</td>\n",
       "      <td>ID_d671db89c</td>\n",
       "      <td>180000.0</td>\n",
       "      <td>0</td>\n",
       "      <td>5</td>\n",
       "      <td>0</td>\n",
       "      <td>1</td>\n",
       "      <td>1</td>\n",
       "      <td>1</td>\n",
       "      <td>1.0</td>\n",
       "      <td>0</td>\n",
       "      <td>2</td>\n",
       "      <td>2</td>\n",
       "      <td>1</td>\n",
       "      <td>1</td>\n",
       "      <td>2</td>\n",
       "      <td>1</td>\n",
       "      <td>3</td>\n",
       "      <td>4</td>\n",
       "      <td>4</td>\n",
       "      <td>4</td>\n",
       "      <td>9</td>\n",
       "      <td>1.0</td>\n",
       "      <td>4</td>\n",
       "      <td>1</td>\n",
       "      <td>0</td>\n",
       "      <td>0</td>\n",
       "      <td>0</td>\n",
       "      <td>0</td>\n",
       "      <td>0</td>\n",
       "      <td>0</td>\n",
       "      <td>0</td>\n",
       "      <td>1</td>\n",
       "      <td>0</td>\n",
       "      <td>0</td>\n",
       "      <td>0</td>\n",
       "      <td>0</td>\n",
       "      <td>0</td>\n",
       "      <td>1</td>\n",
       "      <td>0</td>\n",
       "      <td>0</td>\n",
       "      <td>0</td>\n",
       "      <td>1</td>\n",
       "      <td>1</td>\n",
       "      <td>0</td>\n",
       "      <td>0</td>\n",
       "      <td>1</td>\n",
       "      <td>0</td>\n",
       "      <td>0</td>\n",
       "      <td>0</td>\n",
       "      <td>0</td>\n",
       "      <td>1</td>\n",
       "      <td>0</td>\n",
       "      <td>0</td>\n",
       "      <td>0</td>\n",
       "      <td>0</td>\n",
       "      <td>1</td>\n",
       "      <td>0</td>\n",
       "      <td>0</td>\n",
       "      <td>1</td>\n",
       "      <td>0</td>\n",
       "      <td>0</td>\n",
       "      <td>0</td>\n",
       "      <td>0</td>\n",
       "      <td>0</td>\n",
       "      <td>0</td>\n",
       "      <td>0</td>\n",
       "      <td>1</td>\n",
       "      <td>0</td>\n",
       "      <td>0</td>\n",
       "      <td>1</td>\n",
       "      <td>0</td>\n",
       "      <td>0</td>\n",
       "      <td>1</td>\n",
       "      <td>0</td>\n",
       "      <td>1</td>\n",
       "      <td>0</td>\n",
       "      <td>0</td>\n",
       "      <td>0</td>\n",
       "      <td>0</td>\n",
       "      <td>0</td>\n",
       "      <td>0</td>\n",
       "      <td>0</td>\n",
       "      <td>1</td>\n",
       "      <td>0</td>\n",
       "      <td>0</td>\n",
       "      <td>1</td>\n",
       "      <td>0</td>\n",
       "      <td>0</td>\n",
       "      <td>0</td>\n",
       "      <td>0</td>\n",
       "      <td>0</td>\n",
       "      <td>0</td>\n",
       "      <td>0</td>\n",
       "      <td>0</td>\n",
       "      <td>0</td>\n",
       "      <td>2b58d945f</td>\n",
       "      <td>2</td>\n",
       "      <td>2</td>\n",
       "      <td>0</td>\n",
       "      <td>4</td>\n",
       "      <td>yes</td>\n",
       "      <td>11</td>\n",
       "      <td>no</td>\n",
       "      <td>11.0</td>\n",
       "      <td>0</td>\n",
       "      <td>0</td>\n",
       "      <td>0</td>\n",
       "      <td>1</td>\n",
       "      <td>0</td>\n",
       "      <td>0</td>\n",
       "      <td>0</td>\n",
       "      <td>0</td>\n",
       "      <td>0</td>\n",
       "      <td>3</td>\n",
       "      <td>1.333333</td>\n",
       "      <td>0</td>\n",
       "      <td>0</td>\n",
       "      <td>1</td>\n",
       "      <td>0</td>\n",
       "      <td>0</td>\n",
       "      <td>0</td>\n",
       "      <td>0</td>\n",
       "      <td>1</td>\n",
       "      <td>3</td>\n",
       "      <td>1</td>\n",
       "      <td>0</td>\n",
       "      <td>0</td>\n",
       "      <td>0</td>\n",
       "      <td>0</td>\n",
       "      <td>0</td>\n",
       "      <td>1</td>\n",
       "      <td>0</td>\n",
       "      <td>17</td>\n",
       "      <td>81</td>\n",
       "      <td>289</td>\n",
       "      <td>16</td>\n",
       "      <td>121</td>\n",
       "      <td>4</td>\n",
       "      <td>1.777778</td>\n",
       "      <td>1.0</td>\n",
       "      <td>121.0</td>\n",
       "      <td>289</td>\n",
       "      <td>4</td>\n",
       "    </tr>\n",
       "    <tr>\n",
       "      <td>4</td>\n",
       "      <td>ID_d56d6f5f5</td>\n",
       "      <td>180000.0</td>\n",
       "      <td>0</td>\n",
       "      <td>5</td>\n",
       "      <td>0</td>\n",
       "      <td>1</td>\n",
       "      <td>1</td>\n",
       "      <td>1</td>\n",
       "      <td>1.0</td>\n",
       "      <td>0</td>\n",
       "      <td>2</td>\n",
       "      <td>2</td>\n",
       "      <td>1</td>\n",
       "      <td>1</td>\n",
       "      <td>2</td>\n",
       "      <td>1</td>\n",
       "      <td>3</td>\n",
       "      <td>4</td>\n",
       "      <td>4</td>\n",
       "      <td>4</td>\n",
       "      <td>11</td>\n",
       "      <td>NaN</td>\n",
       "      <td>4</td>\n",
       "      <td>1</td>\n",
       "      <td>0</td>\n",
       "      <td>0</td>\n",
       "      <td>0</td>\n",
       "      <td>0</td>\n",
       "      <td>0</td>\n",
       "      <td>0</td>\n",
       "      <td>0</td>\n",
       "      <td>1</td>\n",
       "      <td>0</td>\n",
       "      <td>0</td>\n",
       "      <td>0</td>\n",
       "      <td>0</td>\n",
       "      <td>0</td>\n",
       "      <td>1</td>\n",
       "      <td>0</td>\n",
       "      <td>0</td>\n",
       "      <td>0</td>\n",
       "      <td>1</td>\n",
       "      <td>1</td>\n",
       "      <td>0</td>\n",
       "      <td>0</td>\n",
       "      <td>1</td>\n",
       "      <td>0</td>\n",
       "      <td>0</td>\n",
       "      <td>0</td>\n",
       "      <td>0</td>\n",
       "      <td>1</td>\n",
       "      <td>0</td>\n",
       "      <td>0</td>\n",
       "      <td>0</td>\n",
       "      <td>0</td>\n",
       "      <td>1</td>\n",
       "      <td>0</td>\n",
       "      <td>0</td>\n",
       "      <td>1</td>\n",
       "      <td>0</td>\n",
       "      <td>0</td>\n",
       "      <td>0</td>\n",
       "      <td>0</td>\n",
       "      <td>0</td>\n",
       "      <td>0</td>\n",
       "      <td>0</td>\n",
       "      <td>1</td>\n",
       "      <td>0</td>\n",
       "      <td>0</td>\n",
       "      <td>1</td>\n",
       "      <td>0</td>\n",
       "      <td>0</td>\n",
       "      <td>1</td>\n",
       "      <td>0</td>\n",
       "      <td>0</td>\n",
       "      <td>1</td>\n",
       "      <td>0</td>\n",
       "      <td>1</td>\n",
       "      <td>0</td>\n",
       "      <td>0</td>\n",
       "      <td>0</td>\n",
       "      <td>0</td>\n",
       "      <td>0</td>\n",
       "      <td>0</td>\n",
       "      <td>1</td>\n",
       "      <td>0</td>\n",
       "      <td>0</td>\n",
       "      <td>0</td>\n",
       "      <td>0</td>\n",
       "      <td>0</td>\n",
       "      <td>0</td>\n",
       "      <td>0</td>\n",
       "      <td>0</td>\n",
       "      <td>0</td>\n",
       "      <td>0</td>\n",
       "      <td>2b58d945f</td>\n",
       "      <td>2</td>\n",
       "      <td>2</td>\n",
       "      <td>0</td>\n",
       "      <td>4</td>\n",
       "      <td>yes</td>\n",
       "      <td>11</td>\n",
       "      <td>no</td>\n",
       "      <td>11.0</td>\n",
       "      <td>0</td>\n",
       "      <td>0</td>\n",
       "      <td>0</td>\n",
       "      <td>0</td>\n",
       "      <td>1</td>\n",
       "      <td>0</td>\n",
       "      <td>0</td>\n",
       "      <td>0</td>\n",
       "      <td>0</td>\n",
       "      <td>3</td>\n",
       "      <td>1.333333</td>\n",
       "      <td>0</td>\n",
       "      <td>0</td>\n",
       "      <td>1</td>\n",
       "      <td>0</td>\n",
       "      <td>0</td>\n",
       "      <td>0</td>\n",
       "      <td>0</td>\n",
       "      <td>1</td>\n",
       "      <td>3</td>\n",
       "      <td>1</td>\n",
       "      <td>0</td>\n",
       "      <td>0</td>\n",
       "      <td>0</td>\n",
       "      <td>0</td>\n",
       "      <td>0</td>\n",
       "      <td>1</td>\n",
       "      <td>0</td>\n",
       "      <td>37</td>\n",
       "      <td>121</td>\n",
       "      <td>1369</td>\n",
       "      <td>16</td>\n",
       "      <td>121</td>\n",
       "      <td>4</td>\n",
       "      <td>1.777778</td>\n",
       "      <td>1.0</td>\n",
       "      <td>121.0</td>\n",
       "      <td>1369</td>\n",
       "      <td>4</td>\n",
       "    </tr>\n",
       "  </tbody>\n",
       "</table>\n",
       "</div>"
      ],
      "text/plain": [
       "             Id      v2a1  hacdor  rooms  hacapo  v14a  refrig  v18q  v18q1  \\\n",
       "0  ID_279628684  190000.0       0      3       0     1       1     0    NaN   \n",
       "1  ID_f29eb3ddd  135000.0       0      4       0     1       1     1    1.0   \n",
       "2  ID_68de51c94       NaN       0      8       0     1       1     0    NaN   \n",
       "3  ID_d671db89c  180000.0       0      5       0     1       1     1    1.0   \n",
       "4  ID_d56d6f5f5  180000.0       0      5       0     1       1     1    1.0   \n",
       "\n",
       "   r4h1  r4h2  r4h3  r4m1  r4m2  r4m3  r4t1  r4t2  r4t3  tamhog  tamviv  \\\n",
       "0     0     1     1     0     0     0     0     1     1       1       1   \n",
       "1     0     1     1     0     0     0     0     1     1       1       1   \n",
       "2     0     0     0     0     1     1     0     1     1       1       1   \n",
       "3     0     2     2     1     1     2     1     3     4       4       4   \n",
       "4     0     2     2     1     1     2     1     3     4       4       4   \n",
       "\n",
       "   escolari  rez_esc  hhsize  paredblolad  paredzocalo  paredpreb  pareddes  \\\n",
       "0        10      NaN       1            1            0          0         0   \n",
       "1        12      NaN       1            0            0          0         0   \n",
       "2        11      NaN       1            0            0          0         0   \n",
       "3         9      1.0       4            1            0          0         0   \n",
       "4        11      NaN       4            1            0          0         0   \n",
       "\n",
       "   paredmad  paredzinc  paredfibras  paredother  pisomoscer  pisocemento  \\\n",
       "0         0          0            0           0           1            0   \n",
       "1         1          0            0           0           0            0   \n",
       "2         1          0            0           0           1            0   \n",
       "3         0          0            0           0           1            0   \n",
       "4         0          0            0           0           1            0   \n",
       "\n",
       "   pisoother  pisonatur  pisonotiene  pisomadera  techozinc  techoentrepiso  \\\n",
       "0          0          0            0           0          0               1   \n",
       "1          0          0            0           1          1               0   \n",
       "2          0          0            0           0          1               0   \n",
       "3          0          0            0           0          1               0   \n",
       "4          0          0            0           0          1               0   \n",
       "\n",
       "   techocane  techootro  cielorazo  abastaguadentro  abastaguafuera  \\\n",
       "0          0          0          1                1               0   \n",
       "1          0          0          1                1               0   \n",
       "2          0          0          1                1               0   \n",
       "3          0          0          1                1               0   \n",
       "4          0          0          1                1               0   \n",
       "\n",
       "   abastaguano  public  planpri  noelec  coopele  sanitario1  sanitario2  \\\n",
       "0            0       1        0       0        0           0           1   \n",
       "1            0       1        0       0        0           0           1   \n",
       "2            0       1        0       0        0           0           1   \n",
       "3            0       1        0       0        0           0           1   \n",
       "4            0       1        0       0        0           0           1   \n",
       "\n",
       "   sanitario3  sanitario5  sanitario6  energcocinar1  energcocinar2  \\\n",
       "0           0           0           0              0              0   \n",
       "1           0           0           0              0              1   \n",
       "2           0           0           0              0              1   \n",
       "3           0           0           0              0              1   \n",
       "4           0           0           0              0              1   \n",
       "\n",
       "   energcocinar3  energcocinar4  elimbasu1  elimbasu2  elimbasu3  elimbasu4  \\\n",
       "0              1              0          1          0          0          0   \n",
       "1              0              0          1          0          0          0   \n",
       "2              0              0          1          0          0          0   \n",
       "3              0              0          1          0          0          0   \n",
       "4              0              0          1          0          0          0   \n",
       "\n",
       "   elimbasu5  elimbasu6  epared1  epared2  epared3  etecho1  etecho2  etecho3  \\\n",
       "0          0          0        0        1        0        1        0        0   \n",
       "1          0          0        0        1        0        0        1        0   \n",
       "2          0          0        0        1        0        0        0        1   \n",
       "3          0          0        0        0        1        0        0        1   \n",
       "4          0          0        0        0        1        0        0        1   \n",
       "\n",
       "   eviv1  eviv2  eviv3  dis  male  female  estadocivil1  estadocivil2  \\\n",
       "0      1      0      0    0     1       0             0             0   \n",
       "1      0      1      0    0     1       0             0             0   \n",
       "2      0      0      1    1     0       1             0             0   \n",
       "3      0      0      1    0     1       0             0             0   \n",
       "4      0      0      1    0     0       1             0             1   \n",
       "\n",
       "   estadocivil3  estadocivil4  estadocivil5  estadocivil6  estadocivil7  \\\n",
       "0             0             1             0             0             0   \n",
       "1             0             1             0             0             0   \n",
       "2             0             0             0             1             0   \n",
       "3             0             0             0             0             1   \n",
       "4             0             0             0             0             0   \n",
       "\n",
       "   parentesco1  parentesco2  parentesco3  parentesco4  parentesco5  \\\n",
       "0            1            0            0            0            0   \n",
       "1            1            0            0            0            0   \n",
       "2            1            0            0            0            0   \n",
       "3            0            0            1            0            0   \n",
       "4            0            1            0            0            0   \n",
       "\n",
       "   parentesco6  parentesco7  parentesco8  parentesco9  parentesco10  \\\n",
       "0            0            0            0            0             0   \n",
       "1            0            0            0            0             0   \n",
       "2            0            0            0            0             0   \n",
       "3            0            0            0            0             0   \n",
       "4            0            0            0            0             0   \n",
       "\n",
       "   parentesco11  parentesco12    idhogar  hogar_nin  hogar_adul  hogar_mayor  \\\n",
       "0             0             0  21eb7fcc1          0           1            0   \n",
       "1             0             0  0e5d7a658          0           1            1   \n",
       "2             0             0  2c7317ea8          0           1            1   \n",
       "3             0             0  2b58d945f          2           2            0   \n",
       "4             0             0  2b58d945f          2           2            0   \n",
       "\n",
       "   hogar_total dependency edjefe edjefa  meaneduc  instlevel1  instlevel2  \\\n",
       "0            1         no     10     no      10.0           0           0   \n",
       "1            1          8     12     no      12.0           0           0   \n",
       "2            1          8     no     11      11.0           0           0   \n",
       "3            4        yes     11     no      11.0           0           0   \n",
       "4            4        yes     11     no      11.0           0           0   \n",
       "\n",
       "   instlevel3  instlevel4  instlevel5  instlevel6  instlevel7  instlevel8  \\\n",
       "0           0           1           0           0           0           0   \n",
       "1           0           0           0           0           0           1   \n",
       "2           0           0           1           0           0           0   \n",
       "3           0           1           0           0           0           0   \n",
       "4           0           0           1           0           0           0   \n",
       "\n",
       "   instlevel9  bedrooms  overcrowding  tipovivi1  tipovivi2  tipovivi3  \\\n",
       "0           0         1      1.000000          0          0          1   \n",
       "1           0         1      1.000000          0          0          1   \n",
       "2           0         2      0.500000          1          0          0   \n",
       "3           0         3      1.333333          0          0          1   \n",
       "4           0         3      1.333333          0          0          1   \n",
       "\n",
       "   tipovivi4  tipovivi5  computer  television  mobilephone  qmobilephone  \\\n",
       "0          0          0         0           0            1             1   \n",
       "1          0          0         0           0            1             1   \n",
       "2          0          0         0           0            0             0   \n",
       "3          0          0         0           0            1             3   \n",
       "4          0          0         0           0            1             3   \n",
       "\n",
       "   lugar1  lugar2  lugar3  lugar4  lugar5  lugar6  area1  area2  age  \\\n",
       "0       1       0       0       0       0       0      1      0   43   \n",
       "1       1       0       0       0       0       0      1      0   67   \n",
       "2       1       0       0       0       0       0      1      0   92   \n",
       "3       1       0       0       0       0       0      1      0   17   \n",
       "4       1       0       0       0       0       0      1      0   37   \n",
       "\n",
       "   SQBescolari  SQBage  SQBhogar_total  SQBedjefe  SQBhogar_nin  \\\n",
       "0          100    1849               1        100             0   \n",
       "1          144    4489               1        144             0   \n",
       "2          121    8464               1          0             0   \n",
       "3           81     289              16        121             4   \n",
       "4          121    1369              16        121             4   \n",
       "\n",
       "   SQBovercrowding  SQBdependency  SQBmeaned  agesq  Target  \n",
       "0         1.000000            0.0      100.0   1849       4  \n",
       "1         1.000000           64.0      144.0   4489       4  \n",
       "2         0.250000           64.0      121.0   8464       4  \n",
       "3         1.777778            1.0      121.0    289       4  \n",
       "4         1.777778            1.0      121.0   1369       4  "
      ]
     },
     "execution_count": 40,
     "metadata": {},
     "output_type": "execute_result"
    }
   ],
   "source": [
    "dataset.head()"
   ]
  },
  {
   "cell_type": "code",
   "execution_count": 41,
   "metadata": {},
   "outputs": [
    {
     "data": {
      "text/plain": [
       "(9557, 143)"
      ]
     },
     "execution_count": 41,
     "metadata": {},
     "output_type": "execute_result"
    }
   ],
   "source": [
    "dataset.shape"
   ]
  },
  {
   "cell_type": "code",
   "execution_count": 42,
   "metadata": {},
   "outputs": [
    {
     "name": "stdout",
     "output_type": "stream",
     "text": [
      "<class 'pandas.core.frame.DataFrame'>\n",
      "RangeIndex: 9557 entries, 0 to 9556\n",
      "Columns: 143 entries, Id to Target\n",
      "dtypes: float64(8), int64(130), object(5)\n",
      "memory usage: 10.4+ MB\n"
     ]
    }
   ],
   "source": [
    "dataset.info()"
   ]
  },
  {
   "cell_type": "code",
   "execution_count": null,
   "metadata": {},
   "outputs": [],
   "source": [
    "'''\n",
    "DATA TYPES OF VARIABLES: \n",
    "There are four data types associated with the variables in the data set:\n",
    "Boolean: Integer Boolean (0 or 1), Character Boolean (yes or no). Columns such as paredblolad, noelec, etc.\n",
    "Float data type. For example, meaneduc, overcrowding, etc.\n",
    "Integer data type. For example, age, rent, rooms, tamviv, etc.\n",
    "Alpha-numeric. For example, Id, idhogar.\n",
    "'''"
   ]
  },
  {
   "cell_type": "code",
   "execution_count": 43,
   "metadata": {},
   "outputs": [
    {
     "data": {
      "text/plain": [
       "fd8a6d014    13\n",
       "ae6cf0558    12\n",
       "0c7436de6    12\n",
       "6b35cdcf0    11\n",
       "4476ccd4c    11\n",
       "             ..\n",
       "dc935fa16     1\n",
       "ad687ad89     1\n",
       "7789c8d4b     1\n",
       "4a42abb16     1\n",
       "873c41141     1\n",
       "Name: idhogar, Length: 2988, dtype: int64"
      ]
     },
     "execution_count": 43,
     "metadata": {},
     "output_type": "execute_result"
    }
   ],
   "source": [
    "dataset['idhogar'].value_counts()"
   ]
  },
  {
   "cell_type": "code",
   "execution_count": null,
   "metadata": {},
   "outputs": [],
   "source": [
    "'''\n",
    "The dataset consists of the data of 9557 people who belong to 2988 different households, which means sharing the \n",
    "living accommodation.We can also say that 9557 people live in 2988 houses.\n",
    "'''"
   ]
  },
  {
   "cell_type": "code",
   "execution_count": null,
   "metadata": {},
   "outputs": [],
   "source": [
    "'''\n",
    "IF A GROUP OF PEOPLE ARE LIVING IN A SINGLE ACCOMODATION,FOR ALL OF THEM THE HOUSEHOLD ATTRIBUTES/CHARECTERISTICS\n",
    "(VALUES) SHOULD BE THE SAME,LETS VERIFY THAT AND ALSO IDENTIFY WHAT ARE THE NON-HOUSEHOLD ATTRIBUTES THAT HAVE BEEN \n",
    "CONSIDERED IN THE DATASET.\n",
    "'''"
   ]
  },
  {
   "cell_type": "code",
   "execution_count": 44,
   "metadata": {},
   "outputs": [
    {
     "name": "stdout",
     "output_type": "stream",
     "text": [
      "[['Id', 12], ['escolari', 6], ['rez_esc', 2], ['male', 2], ['female', 2], ['estadocivil1', 2], ['estadocivil2', 2], ['estadocivil7', 2], ['parentesco1', 2], ['parentesco2', 2], ['parentesco3', 2], ['parentesco5', 2], ['parentesco6', 2], ['instlevel1', 2], ['instlevel2', 2], ['instlevel4', 2], ['instlevel5', 2], ['age', 12], ['SQBescolari', 6], ['SQBage', 12], ['agesq', 12]]\n"
     ]
    }
   ],
   "source": [
    "cols = dataset.columns\n",
    "cols_unique_values = []\n",
    "\n",
    "for i in cols:\n",
    "    if(len(dataset[dataset['idhogar']=='0c7436de6'][i].unique())>1):\n",
    "        cols_unique_values.append([i,len(dataset[dataset['idhogar']=='0c7436de6'][i].unique())])\n",
    "\n",
    "\n",
    "print(cols_unique_values)"
   ]
  },
  {
   "cell_type": "code",
   "execution_count": null,
   "metadata": {},
   "outputs": [],
   "source": [
    "'''\n",
    "The NON-HOUSEHOLD attributes(not directly related to the conditions of the house that talk about economic status)are:-\n",
    "1.Id\n",
    "2.escolari - years of schooling\n",
    "3.rez_esc - Years behind in school\n",
    "4.male,female columns\n",
    "\n",
    "5.estadocivil1, =1 if less than 10 years old\n",
    "estadocivil2, =1 if free or coupled uunion\n",
    "estadocivil3, =1 if married\n",
    "estadocivil4, =1 if divorced\n",
    "estadocivil5, =1 if separated\n",
    "estadocivil6, =1 if widow/er\n",
    "estadocivil7, =1 if single\n",
    "\n",
    "6.parentesco1, =1 if household head\n",
    "parentesco2, =1 if spouse/partner\n",
    "parentesco3, =1 if son/doughter\n",
    "parentesco4, =1 if stepson/doughter\n",
    "parentesco5, =1 if son/doughter in law\n",
    "parentesco6, =1 if grandson/doughter\n",
    "parentesco7, =1 if mother/father\n",
    "parentesco8, =1 if father/mother in law\n",
    "parentesco9, =1 if brother/sister\n",
    "parentesco10, =1 if brother/sister in law\n",
    "parentesco11, =1 if other family member\n",
    "parentesco12, =1 if other non family member\n",
    "\n",
    "7.instlevel1, =1 no level of education\n",
    "instlevel2, =1 incomplete primary\n",
    "instlevel3, =1 complete primary\n",
    "instlevel4, =1 incomplete academic secondary level\n",
    "instlevel5, =1 complete academic secondary level\n",
    "instlevel6, =1 incomplete technical secondary level\n",
    "instlevel7, =1 complete technical secondary level\n",
    "instlevel8, =1 undergraduate and higher education\n",
    "instlevel9, =1 postgraduate higher education\n",
    "\n",
    "8.Age\n",
    "9.SQBescolari, escolari squared\n",
    "10.SQBage, age squared\n",
    "11.agesq, Age squared\n",
    "\n",
    "WE CAN CHOOSE NOT TO CONSIDER THESE ATTRIBUTES IN OUR ANALYSIS HEREAFTER.\n",
    "\n",
    "'''"
   ]
  },
  {
   "cell_type": "code",
   "execution_count": 35,
   "metadata": {},
   "outputs": [
    {
     "data": {
      "text/plain": [
       "<matplotlib.axes._subplots.AxesSubplot at 0x1a21e39c90>"
      ]
     },
     "execution_count": 35,
     "metadata": {},
     "output_type": "execute_result"
    },
    {
     "data": {
      "image/png": "[encoded data removed]",
      "text/plain": [
       "<Figure size 432x288 with 1 Axes>"
      ]
     },
     "metadata": {},
     "output_type": "display_data"
    }
   ],
   "source": [
    "# Class distribution\n",
    "sns.countplot(dataset['Target'])"
   ]
  },
  {
   "cell_type": "code",
   "execution_count": null,
   "metadata": {},
   "outputs": [],
   "source": [
    "'''\n",
    "The datset has majority of the oservations of non-vulnerable households,a huge imbalance of data can be observed.\n",
    "'''"
   ]
  },
  {
   "cell_type": "code",
   "execution_count": 87,
   "metadata": {},
   "outputs": [
    {
     "data": {
      "text/plain": [
       "5911"
      ]
     },
     "execution_count": 87,
     "metadata": {},
     "output_type": "execute_result"
    }
   ],
   "source": [
    "# tipovivi1, =1 people who own and fully paid house\n",
    "len(dataset[(dataset['tipovivi1']==1) ])"
   ]
  },
  {
   "cell_type": "code",
   "execution_count": 88,
   "metadata": {},
   "outputs": [
    {
     "data": {
      "text/plain": [
       "961"
      ]
     },
     "execution_count": 88,
     "metadata": {},
     "output_type": "execute_result"
    }
   ],
   "source": [
    "# tipovivi2, =1 people who own,but paying in installments(the installments is considered as monthly rents here)\n",
    "len(dataset[(dataset['tipovivi2']==1) ])"
   ]
  },
  {
   "cell_type": "code",
   "execution_count": 89,
   "metadata": {},
   "outputs": [
    {
     "data": {
      "text/plain": [
       "6860"
      ]
     },
     "execution_count": 89,
     "metadata": {},
     "output_type": "execute_result"
    }
   ],
   "source": [
    "# monthly rent unknown\n",
    "dataset['v2a1'].isnull().sum()"
   ]
  },
  {
   "cell_type": "code",
   "execution_count": null,
   "metadata": {},
   "outputs": [],
   "source": [
    "mydict = {'Monthly rent is unknown':dataset['v2a1'].isnull().sum(),\n",
    "          'Own a fully paid house':len(dataset[(dataset['tipovivi1']==1) ]),\n",
    "          'Own a house but paying installments':len(dataset[(dataset['tipovivi2']==1) ])}\n",
    "monthly_rent_data = pd.Series(mydict)"
   ]
  },
  {
   "cell_type": "code",
   "execution_count": 107,
   "metadata": {},
   "outputs": [
    {
     "data": {
      "image/png": "[encoded data removed]",
      "text/plain": [
       "<Figure size 864x432 with 1 Axes>"
      ]
     },
     "metadata": {},
     "output_type": "display_data"
    }
   ],
   "source": [
    "# understanding the data of monthly rents payment feature(v2a1)\n",
    "plt.figure(figsize=(12,6))\n",
    "plt.style.use(\"fivethirtyeight\")\n",
    "sns.barplot(x=['Monthly rent is unknown','Own a fully paid house','Own a house but paying installments'],\n",
    "            y=monthly_rent_data)\n",
    "plt.ylabel('Number of people')\n",
    "plt.show()"
   ]
  },
  {
   "cell_type": "code",
   "execution_count": null,
   "metadata": {},
   "outputs": [],
   "source": [
    "'''\n",
    "It can be inferred that there are 5911 people who OWN a house and 961 people who OWN the house but pay INSTALLMENTS. \n",
    "This fact can be immensely useful during data pre-processing(for the null value imputation of v2a1/monthly \n",
    "rent payment column).\n",
    "'''"
   ]
  },
  {
   "cell_type": "markdown",
   "metadata": {},
   "source": [
    "## 2.DATA PREPROCESSING"
   ]
  },
  {
   "cell_type": "markdown",
   "metadata": {},
   "source": [
    "### Removing duplicate columns"
   ]
  },
  {
   "cell_type": "code",
   "execution_count": null,
   "metadata": {},
   "outputs": [],
   "source": [
    "'''\n",
    "1.There are two columns with the same name ‘age_squared’ that are duplicates of each other:-\n",
    "SQBage, age squared\n",
    "agesq, Age squared\n",
    "OUT OF THE ABOVE TWO,ONLY ONE IS RETAINED.\n",
    "\n",
    "2.There are a lot of columns that are squared values of existing columns such as -\n",
    "SQBescolari, escolari squared\n",
    "SQBhogar_total, hogar_total squared\n",
    "SQBedjefe, edjefe squared\n",
    "SQBhogar_nin, hogar_nin squared\n",
    "SQBovercrowding, overcrowding squared\n",
    "SQBdependency, dependency squared\n",
    "All such columns should be removed from the data set as they provide no additional information to the model\n",
    "\n",
    "3.All the non-household attributes as mentioned in the PREVIOUS STAGE can be eliminated,as they are not useful,\n",
    "specially the below columns :-\n",
    "\n",
    "parentesco3, =1 if son/doughter\n",
    "parentesco4, =1 if stepson/doughter\n",
    "parentesco5, =1 if son/doughter in law\n",
    "parentesco6, =1 if grandson/doughter\n",
    "parentesco7, =1 if mother/father\n",
    "parentesco8, =1 if father/mother in law\n",
    "parentesco9, =1 if brother/sister\n",
    "parentesco10, =1 if brother/sister in law\n",
    "parentesco11, =1 if other family member\n",
    "parentesco12, =1 if other non family member\n",
    "parentesco2, =1 if spouse/partner\n",
    "\n",
    "'''"
   ]
  },
  {
   "cell_type": "code",
   "execution_count": 108,
   "metadata": {},
   "outputs": [],
   "source": [
    "cols_to_drop = ['SQBage','SQBescolari','SQBhogar_total','SQBedjefe','SQBhogar_nin','SQBovercrowding'\n",
    "               ,'SQBdependency','parentesco2','parentesco3','parentesco4','parentesco5','parentesco6','parentesco7',\n",
    "                'parentesco8','parentesco9','parentesco10','parentesco11','parentesco12']\n",
    "\n",
    "dataset.drop(cols_to_drop,axis=1,inplace=True)"
   ]
  },
  {
   "cell_type": "code",
   "execution_count": 113,
   "metadata": {},
   "outputs": [
    {
     "data": {
      "text/plain": [
       "(9557, 125)"
      ]
     },
     "execution_count": 113,
     "metadata": {},
     "output_type": "execute_result"
    }
   ],
   "source": [
    "dataset.shape"
   ]
  },
  {
   "cell_type": "markdown",
   "metadata": {},
   "source": [
    "### Correcting columns with irrelevant data"
   ]
  },
  {
   "cell_type": "code",
   "execution_count": 19,
   "metadata": {},
   "outputs": [
    {
     "data": {
      "text/html": [
       "<div>\n",
       "<style scoped>\n",
       "    .dataframe tbody tr th:only-of-type {\n",
       "        vertical-align: middle;\n",
       "    }\n",
       "\n",
       "    .dataframe tbody tr th {\n",
       "        vertical-align: top;\n",
       "    }\n",
       "\n",
       "    .dataframe thead th {\n",
       "        text-align: right;\n",
       "    }\n",
       "</style>\n",
       "<table border=\"1\" class=\"dataframe\">\n",
       "  <thead>\n",
       "    <tr style=\"text-align: right;\">\n",
       "      <th></th>\n",
       "      <th>Id</th>\n",
       "      <th>idhogar</th>\n",
       "      <th>dependency</th>\n",
       "      <th>edjefe</th>\n",
       "      <th>edjefa</th>\n",
       "    </tr>\n",
       "  </thead>\n",
       "  <tbody>\n",
       "    <tr>\n",
       "      <td>0</td>\n",
       "      <td>ID_279628684</td>\n",
       "      <td>21eb7fcc1</td>\n",
       "      <td>no</td>\n",
       "      <td>10</td>\n",
       "      <td>no</td>\n",
       "    </tr>\n",
       "    <tr>\n",
       "      <td>1</td>\n",
       "      <td>ID_f29eb3ddd</td>\n",
       "      <td>0e5d7a658</td>\n",
       "      <td>8</td>\n",
       "      <td>12</td>\n",
       "      <td>no</td>\n",
       "    </tr>\n",
       "    <tr>\n",
       "      <td>2</td>\n",
       "      <td>ID_68de51c94</td>\n",
       "      <td>2c7317ea8</td>\n",
       "      <td>8</td>\n",
       "      <td>no</td>\n",
       "      <td>11</td>\n",
       "    </tr>\n",
       "    <tr>\n",
       "      <td>3</td>\n",
       "      <td>ID_d671db89c</td>\n",
       "      <td>2b58d945f</td>\n",
       "      <td>yes</td>\n",
       "      <td>11</td>\n",
       "      <td>no</td>\n",
       "    </tr>\n",
       "    <tr>\n",
       "      <td>4</td>\n",
       "      <td>ID_d56d6f5f5</td>\n",
       "      <td>2b58d945f</td>\n",
       "      <td>yes</td>\n",
       "      <td>11</td>\n",
       "      <td>no</td>\n",
       "    </tr>\n",
       "    <tr>\n",
       "      <td>...</td>\n",
       "      <td>...</td>\n",
       "      <td>...</td>\n",
       "      <td>...</td>\n",
       "      <td>...</td>\n",
       "      <td>...</td>\n",
       "    </tr>\n",
       "    <tr>\n",
       "      <td>9552</td>\n",
       "      <td>ID_d45ae367d</td>\n",
       "      <td>d6c086aa3</td>\n",
       "      <td>.25</td>\n",
       "      <td>9</td>\n",
       "      <td>no</td>\n",
       "    </tr>\n",
       "    <tr>\n",
       "      <td>9553</td>\n",
       "      <td>ID_c94744e07</td>\n",
       "      <td>d6c086aa3</td>\n",
       "      <td>.25</td>\n",
       "      <td>9</td>\n",
       "      <td>no</td>\n",
       "    </tr>\n",
       "    <tr>\n",
       "      <td>9554</td>\n",
       "      <td>ID_85fc658f8</td>\n",
       "      <td>d6c086aa3</td>\n",
       "      <td>.25</td>\n",
       "      <td>9</td>\n",
       "      <td>no</td>\n",
       "    </tr>\n",
       "    <tr>\n",
       "      <td>9555</td>\n",
       "      <td>ID_ced540c61</td>\n",
       "      <td>d6c086aa3</td>\n",
       "      <td>.25</td>\n",
       "      <td>9</td>\n",
       "      <td>no</td>\n",
       "    </tr>\n",
       "    <tr>\n",
       "      <td>9556</td>\n",
       "      <td>ID_a38c64491</td>\n",
       "      <td>d6c086aa3</td>\n",
       "      <td>.25</td>\n",
       "      <td>9</td>\n",
       "      <td>no</td>\n",
       "    </tr>\n",
       "  </tbody>\n",
       "</table>\n",
       "<p>9557 rows × 5 columns</p>\n",
       "</div>"
      ],
      "text/plain": [
       "                Id    idhogar dependency edjefe edjefa\n",
       "0     ID_279628684  21eb7fcc1         no     10     no\n",
       "1     ID_f29eb3ddd  0e5d7a658          8     12     no\n",
       "2     ID_68de51c94  2c7317ea8          8     no     11\n",
       "3     ID_d671db89c  2b58d945f        yes     11     no\n",
       "4     ID_d56d6f5f5  2b58d945f        yes     11     no\n",
       "...            ...        ...        ...    ...    ...\n",
       "9552  ID_d45ae367d  d6c086aa3        .25      9     no\n",
       "9553  ID_c94744e07  d6c086aa3        .25      9     no\n",
       "9554  ID_85fc658f8  d6c086aa3        .25      9     no\n",
       "9555  ID_ced540c61  d6c086aa3        .25      9     no\n",
       "9556  ID_a38c64491  d6c086aa3        .25      9     no\n",
       "\n",
       "[9557 rows x 5 columns]"
      ]
     },
     "execution_count": 19,
     "metadata": {},
     "output_type": "execute_result"
    }
   ],
   "source": [
    "dataset.select_dtypes(include=object)"
   ]
  },
  {
   "cell_type": "markdown",
   "metadata": {},
   "source": [
    "#### Dependency - proportion of dependent people in a family"
   ]
  },
  {
   "cell_type": "code",
   "execution_count": 18,
   "metadata": {},
   "outputs": [
    {
     "data": {
      "text/plain": [
       "array(['no', '8', 'yes', '3', '.5', '.25', '2', '.66666669', '.33333334',\n",
       "       '1.5', '.40000001', '.75', '1.25', '.2', '2.5', '1.2', '4',\n",
       "       '1.3333334', '2.25', '.22222222', '5', '.83333331', '.80000001',\n",
       "       '6', '3.5', '1.6666666', '.2857143', '1.75', '.71428573',\n",
       "       '.16666667', '.60000002'], dtype=object)"
      ]
     },
     "execution_count": 18,
     "metadata": {},
     "output_type": "execute_result"
    }
   ],
   "source": [
    "dataset['dependency'].unique()"
   ]
  },
  {
   "cell_type": "code",
   "execution_count": null,
   "metadata": {},
   "outputs": [],
   "source": [
    "'''\n",
    "THIS COLUMN HAS VALUES \"YES/NO\" WHICH ARE DIFFERENT FROM THE REST AND THEREFORE IRRELEVANT HERE,\n",
    "WE NEED TO REPLACE THEM.\n",
    "\n",
    "Dependency rate, calculated as :-\n",
    "(number of members of the household younger than 19 or older than 64)/(number of member of household between 19 and 64)\n",
    "\n",
    "According to this we can conclude that :-\n",
    "1.There is greater dependency if the value>1(numerator>denominator)\n",
    "2.There is less dependency if the value is between 0-1(nr<dr)\n",
    "3.The value is 0 for NO dependency.\n",
    "4.Value 1 indicates the EXISTENCE of dependency\n",
    "\n",
    "Based on this let's replace \"NO\" with 0,\"Yes\" with 1.\n",
    "'''"
   ]
  },
  {
   "cell_type": "code",
   "execution_count": 20,
   "metadata": {},
   "outputs": [],
   "source": [
    "dataset.replace(to_replace={'yes':1,'no':0},inplace=True)"
   ]
  },
  {
   "cell_type": "code",
   "execution_count": 24,
   "metadata": {},
   "outputs": [],
   "source": [
    "dataset.dependency=dataset.dependency.astype('float')"
   ]
  },
  {
   "cell_type": "code",
   "execution_count": 27,
   "metadata": {},
   "outputs": [
    {
     "data": {
      "text/plain": [
       "array([0.        , 8.        , 1.        , 3.        , 0.5       ,\n",
       "       0.25      , 2.        , 0.66666669, 0.33333334, 1.5       ,\n",
       "       0.40000001, 0.75      , 1.25      , 0.2       , 2.5       ,\n",
       "       1.2       , 4.        , 1.3333334 , 2.25      , 0.22222222,\n",
       "       5.        , 0.83333331, 0.80000001, 6.        , 3.5       ,\n",
       "       1.6666666 , 0.2857143 , 1.75      , 0.71428573, 0.16666667,\n",
       "       0.60000002])"
      ]
     },
     "execution_count": 27,
     "metadata": {},
     "output_type": "execute_result"
    }
   ],
   "source": [
    "dataset['dependency'].unique()"
   ]
  },
  {
   "cell_type": "markdown",
   "metadata": {},
   "source": [
    "#### edjefe - years of education of male head of household"
   ]
  },
  {
   "cell_type": "code",
   "execution_count": null,
   "metadata": {},
   "outputs": [],
   "source": [
    "'''edjefe, years of education of male head of household, based on the interaction of escolari (years of education), head of household and gender, yes=1 and no=0\n",
    "edjefa, years of education of female head of household, based on the interaction of escolari (years of education), head of household and gender, yes=1 and no=0\n",
    "'''"
   ]
  },
  {
   "cell_type": "code",
   "execution_count": 14,
   "metadata": {},
   "outputs": [
    {
     "data": {
      "text/plain": [
       "array(['10', '12', 'no', '11', '9', '15', '4', '6', '8', '17', '7', '16',\n",
       "       '14', '5', '21', '2', '19', 'yes', '3', '18', '13', '20'],\n",
       "      dtype=object)"
      ]
     },
     "execution_count": 14,
     "metadata": {},
     "output_type": "execute_result"
    }
   ],
   "source": [
    "dataset['edjefe'].unique()"
   ]
  },
  {
   "cell_type": "code",
   "execution_count": null,
   "metadata": {},
   "outputs": [],
   "source": []
  },
  {
   "cell_type": "code",
   "execution_count": null,
   "metadata": {},
   "outputs": [],
   "source": []
  },
  {
   "cell_type": "code",
   "execution_count": null,
   "metadata": {},
   "outputs": [],
   "source": []
  },
  {
   "cell_type": "markdown",
   "metadata": {},
   "source": [
    "#### edjefa"
   ]
  },
  {
   "cell_type": "code",
   "execution_count": 15,
   "metadata": {},
   "outputs": [
    {
     "data": {
      "text/plain": [
       "array(['no', '11', '4', '10', '9', '15', '7', '14', '13', '8', '17', '6',\n",
       "       '5', '3', '16', '19', 'yes', '21', '12', '2', '20', '18'],\n",
       "      dtype=object)"
      ]
     },
     "execution_count": 15,
     "metadata": {},
     "output_type": "execute_result"
    }
   ],
   "source": [
    "dataset['edjefa'].unique()"
   ]
  },
  {
   "cell_type": "code",
   "execution_count": null,
   "metadata": {},
   "outputs": [],
   "source": []
  },
  {
   "cell_type": "code",
   "execution_count": null,
   "metadata": {},
   "outputs": [],
   "source": []
  },
  {
   "cell_type": "markdown",
   "metadata": {},
   "source": [
    "### Null Values and their treatment"
   ]
  },
  {
   "cell_type": "code",
   "execution_count": 116,
   "metadata": {},
   "outputs": [
    {
     "name": "stdout",
     "output_type": "stream",
     "text": [
      "Percentage of null values in the dataset =  1.62 %\n"
     ]
    }
   ],
   "source": [
    "# percentage of Null values in the dataset\n",
    "tot_val=len(dataset)*len(dataset.columns)\n",
    "print(\"Percentage of null values in the dataset = \",round((dataset.isnull().sum().sum()/tot_val)*100,3),'%')"
   ]
  },
  {
   "cell_type": "code",
   "execution_count": 29,
   "metadata": {},
   "outputs": [
    {
     "data": {
      "text/plain": [
       "rez_esc      7928\n",
       "v18q1        7342\n",
       "v2a1         6860\n",
       "meaneduc        5\n",
       "SQBmeaned       5\n",
       "Id              0\n",
       "hacdor          0\n",
       "rooms           0\n",
       "hacapo          0\n",
       "v14a            0\n",
       "dtype: int64"
      ]
     },
     "execution_count": 29,
     "metadata": {},
     "output_type": "execute_result"
    }
   ],
   "source": [
    "dataset.isnull().sum().nlargest(10)"
   ]
  },
  {
   "cell_type": "code",
   "execution_count": 30,
   "metadata": {},
   "outputs": [
    {
     "data": {
      "image/png": "[encoded data removed]",
      "text/plain": [
       "<Figure size 504x432 with 1 Axes>"
      ]
     },
     "metadata": {
      "needs_background": "light"
     },
     "output_type": "display_data"
    }
   ],
   "source": [
    "missing=pd.DataFrame(100*dataset.isnull().sum()/len(dataset),\n",
    "                  columns=[\"percent of missing values\"]).sort_values(ascending=False,by=\"percent of missing values\")\n",
    "plt.figure(figsize=(7,6))\n",
    "plt.style.use(\"fivethirtyeight\")\n",
    "sns.barplot(x=missing.index[:3],y=missing[\"percent of missing values\"][:3])\n",
    "plt.show()"
   ]
  },
  {
   "cell_type": "code",
   "execution_count": null,
   "metadata": {},
   "outputs": [],
   "source": [
    "'''\n",
    "1.The total null values constitute 1.62% of the entire data.\n",
    "\n",
    "2.Columns - and their respective Null values are presented above,we can say that v2a1,v18q1,rez_esc columns \n",
    "contribute to majority of the null values.\n",
    "\n",
    "3.v2a1   -   Monthly rent paid by each household.\n",
    "v18q1    -   number of tablets household owns\n",
    "rez_esc  -   Years behind in school\n",
    "\n",
    "MAJORITY OF THIS DATA IS MISSING.\n",
    "\n",
    "4.Going by the importance of these columns in our predictions and also the percentage of the data they contribute to \n",
    "the dataset, we can consider removing the above 3 columns,as replacing these with any value will lead to creation \n",
    "of data which would not lead to accurate predictions.\n",
    "\n",
    "5.The other two columns values can be filled by median/mean -\n",
    "meaneduc  - average years of education for adults (18+)\n",
    "SQBmeaned - square of the mean years of education of adults (>=18) in the household\n",
    "\n",
    "'''"
   ]
  },
  {
   "cell_type": "markdown",
   "metadata": {},
   "source": [
    "#### v2a1"
   ]
  },
  {
   "cell_type": "code",
   "execution_count": null,
   "metadata": {},
   "outputs": [],
   "source": []
  },
  {
   "cell_type": "code",
   "execution_count": null,
   "metadata": {},
   "outputs": [],
   "source": []
  },
  {
   "cell_type": "code",
   "execution_count": null,
   "metadata": {},
   "outputs": [],
   "source": []
  },
  {
   "cell_type": "code",
   "execution_count": null,
   "metadata": {},
   "outputs": [],
   "source": [
    "# for meaneduc,SQBmeaned columns\n"
   ]
  },
  {
   "cell_type": "code",
   "execution_count": null,
   "metadata": {},
   "outputs": [],
   "source": [
    "'''\n",
    " \n",
    "The unit of analysis is a household. However, each record in the data set describes the attributes of a single \n",
    "person in the household. People belonging to a single household can be grouped together by the ‘household_identifier’\n",
    "column as they have the same identifier value assigned to each of them. ‘Household_identifer’ values are unique to \n",
    "every household. Additionally, the same value of the ‘target’ class (poverty level) is assigned to all the people in\n",
    "a single household.\n",
    "\n",
    "Missing values are found across multiple columns in the data set. With the explanations drawn in the \n",
    "‘Data Exploration’ section over the NaN values present in the ‘monthly_rent_payment’ column, it is assumed that all\n",
    "the people who own a house do not pay the rent. There are only 7 people left. Since their count is too less, \n",
    "all the rows with NaN values in the ‘monthly_rent_payment’ column are replaced with a zero.\n",
    "\n",
    "The column ‘number_of_tablets_household_owns’ also contains NaN values. The column ‘owns_a_tablet’ indicates whether \n",
    "a household owns a tablet or not. If the household does not own a tablet, then its value in the \n",
    "‘number_of_tablets_household_owns’ column is replaced with a zero. For every household, the mean values for the\n",
    "columns ‘years_of_schooling’ and ‘years_behind_in_school’ are computed and assigned to the household head. \n",
    "The character Boolean values (yes or no) in the ‘dependency’ column have been replaced with 1 or 0 respectively. \n",
    "The same operation has been performed for ‘edjefe’ and ‘edjefa’ columns.\n",
    "\n",
    "\n",
    "\n",
    "'''"
   ]
  },
  {
   "cell_type": "code",
   "execution_count": 50,
   "metadata": {},
   "outputs": [
    {
     "data": {
      "text/plain": [
       "idhogar\n",
       "001ff74ca    2\n",
       "003123ec2    4\n",
       "004616164    2\n",
       "004983866    2\n",
       "005905417    3\n",
       "            ..\n",
       "ff9343a35    4\n",
       "ff9d5ab17    3\n",
       "ffae4a097    2\n",
       "ffe90d46f    4\n",
       "fff7d6be1    4\n",
       "Name: Target, Length: 2988, dtype: int64"
      ]
     },
     "execution_count": 50,
     "metadata": {},
     "output_type": "execute_result"
    }
   ],
   "source": [
    "dataset.groupby('idhogar').count()['Target']"
   ]
  },
  {
   "cell_type": "code",
   "execution_count": 54,
   "metadata": {},
   "outputs": [
    {
     "data": {
      "text/plain": [
       "6472    2\n",
       "6473    2\n",
       "Name: Target, dtype: int64"
      ]
     },
     "execution_count": 54,
     "metadata": {},
     "output_type": "execute_result"
    }
   ],
   "source": [
    "dataset[dataset['idhogar']=='004616164']['Target']"
   ]
  },
  {
   "cell_type": "markdown",
   "metadata": {},
   "source": [
    "### Outliers and their treatment"
   ]
  },
  {
   "cell_type": "code",
   "execution_count": null,
   "metadata": {},
   "outputs": [],
   "source": []
  },
  {
   "cell_type": "code",
   "execution_count": null,
   "metadata": {},
   "outputs": [],
   "source": []
  },
  {
   "cell_type": "code",
   "execution_count": null,
   "metadata": {},
   "outputs": [],
   "source": []
  },
  {
   "cell_type": "code",
   "execution_count": null,
   "metadata": {},
   "outputs": [],
   "source": []
  },
  {
   "cell_type": "markdown",
   "metadata": {},
   "source": [
    "### Data Imbalance - Let's see the The poverty level distribution in the dataset given "
   ]
  },
  {
   "cell_type": "markdown",
   "metadata": {},
   "source": [
    "#### Individual Poverty Level"
   ]
  },
  {
   "cell_type": "code",
   "execution_count": 92,
   "metadata": {},
   "outputs": [
    {
     "data": {
      "image/png": "[encoded data removed]",
      "text/plain": [
       "<Figure size 720x360 with 1 Axes>"
      ]
     },
     "metadata": {
      "needs_background": "light"
     },
     "output_type": "display_data"
    }
   ],
   "source": [
    "plt.figure(figsize=(10,5))\n",
    "sns.countplot(dataset['Target'])\n",
    "plt.xlabel('Poverty Level')\n",
    "plt.ylabel('Number of Individuals')\n",
    "plt.title('Distribution of Individual Poverty level')\n",
    "plt.show()"
   ]
  },
  {
   "cell_type": "code",
   "execution_count": 40,
   "metadata": {},
   "outputs": [
    {
     "data": {
      "text/plain": [
       "4    62.739353\n",
       "2    16.710265\n",
       "3    12.650413\n",
       "1     7.899969\n",
       "Name: Target, dtype: float64"
      ]
     },
     "execution_count": 40,
     "metadata": {},
     "output_type": "execute_result"
    }
   ],
   "source": [
    "(dataset['Target'].value_counts()/len(dataset))*100"
   ]
  },
  {
   "cell_type": "code",
   "execution_count": null,
   "metadata": {},
   "outputs": [],
   "source": [
    "'''\n",
    "We can observe a great imbalance in the dataset,interms of the proportion of data belonging to each class(1,\n",
    "2,3,4), the number rows belonging to class ‘four’ form 62.7% of the data set but the number of rows belonging to \n",
    "class ‘one’ account to only 7.89%,same can be observed below(in the HOUSEHOLD poverty level distribution).\n",
    "'''"
   ]
  },
  {
   "cell_type": "markdown",
   "metadata": {},
   "source": [
    "#### Household Poverty Level"
   ]
  },
  {
   "cell_type": "code",
   "execution_count": null,
   "metadata": {},
   "outputs": [],
   "source": [
    "'''\n",
    "It can be interpreted that the analysis revolves around HOUSEHOLD(economic status). \n",
    "However, each record in the data set describes the attributes of a single person in the household. \n",
    "People belonging to a single household can be grouped together by the ‘household_identifier’(idhogar) column as \n",
    "they have the same identifier value assigned to each of them. \n",
    "\n",
    "‘Household_identifer’(idhogar) values are unique to every household. Additionally, the same value of the ‘target’ \n",
    "class (poverty level) is assigned to all the people in a single household.\n",
    "\n",
    "'''"
   ]
  },
  {
   "cell_type": "code",
   "execution_count": null,
   "metadata": {},
   "outputs": [],
   "source": []
  },
  {
   "cell_type": "code",
   "execution_count": null,
   "metadata": {},
   "outputs": [],
   "source": []
  },
  {
   "cell_type": "code",
   "execution_count": null,
   "metadata": {},
   "outputs": [],
   "source": []
  },
  {
   "cell_type": "code",
   "execution_count": null,
   "metadata": {},
   "outputs": [],
   "source": []
  },
  {
   "cell_type": "markdown",
   "metadata": {},
   "source": [
    "## 3.EXPLORATORY DATA ANALYSIS"
   ]
  },
  {
   "cell_type": "code",
   "execution_count": null,
   "metadata": {},
   "outputs": [],
   "source": [
    "'''\n",
    "SINCE THIS DATASET IS USED TO DETERMINE THE HOUSEHOLD ECONOMIC STATUS,WE WONT CONSIDER SINGLE INDIVIDUALS IN OUR \n",
    "ANALYSIS,RATHER WILL OBTAIN A HOUSEHOLD DATASET AND PERFORM OUR ANALYSIS ON IT.\n",
    "\n",
    "Household data set: The household head is regarded as a representative of each household. \n",
    "Hence, only rows whose ‘if_household_head’ column equals 1 are made a part of this data set.\n",
    "\n",
    "Features such as ‘years_of_schooling’ that are associated with a single person have been appropriately handled \n",
    "to reflect the household during data pre-processing. A total of 2973 rows form this data set and henceforth, it \n",
    "will be referenced as the household dataset.\n",
    "'''"
   ]
  },
  {
   "cell_type": "code",
   "execution_count": null,
   "metadata": {},
   "outputs": [],
   "source": []
  },
  {
   "cell_type": "code",
   "execution_count": null,
   "metadata": {},
   "outputs": [],
   "source": []
  },
  {
   "cell_type": "markdown",
   "metadata": {},
   "source": [
    "### Correlation"
   ]
  },
  {
   "cell_type": "code",
   "execution_count": null,
   "metadata": {},
   "outputs": [],
   "source": [
    "'''\n",
    "Is there any relationship between the education attained, gender, head of the household, number of persons, \n",
    "number of rooms in the household, dependency, and technology (mobile phones, computer, television, tablet) to the \n",
    "level of poverty for a household? \n",
    "'''"
   ]
  },
  {
   "cell_type": "markdown",
   "metadata": {},
   "source": [
    "#### Numerical columns"
   ]
  },
  {
   "cell_type": "code",
   "execution_count": null,
   "metadata": {},
   "outputs": [],
   "source": []
  },
  {
   "cell_type": "code",
   "execution_count": null,
   "metadata": {},
   "outputs": [],
   "source": []
  },
  {
   "cell_type": "code",
   "execution_count": null,
   "metadata": {},
   "outputs": [],
   "source": []
  },
  {
   "cell_type": "code",
   "execution_count": null,
   "metadata": {},
   "outputs": [],
   "source": []
  },
  {
   "cell_type": "code",
   "execution_count": null,
   "metadata": {},
   "outputs": [],
   "source": []
  },
  {
   "cell_type": "markdown",
   "metadata": {},
   "source": [
    "#### Categorical columns"
   ]
  },
  {
   "cell_type": "code",
   "execution_count": null,
   "metadata": {},
   "outputs": [],
   "source": []
  },
  {
   "cell_type": "code",
   "execution_count": null,
   "metadata": {},
   "outputs": [],
   "source": []
  },
  {
   "cell_type": "code",
   "execution_count": null,
   "metadata": {},
   "outputs": [],
   "source": []
  },
  {
   "cell_type": "code",
   "execution_count": null,
   "metadata": {},
   "outputs": [],
   "source": []
  },
  {
   "cell_type": "code",
   "execution_count": null,
   "metadata": {},
   "outputs": [],
   "source": []
  },
  {
   "cell_type": "markdown",
   "metadata": {},
   "source": [
    "### Bi-Variate/Multi-variate analysis through various plots"
   ]
  },
  {
   "cell_type": "code",
   "execution_count": null,
   "metadata": {},
   "outputs": [],
   "source": []
  },
  {
   "cell_type": "code",
   "execution_count": null,
   "metadata": {},
   "outputs": [],
   "source": []
  },
  {
   "cell_type": "code",
   "execution_count": null,
   "metadata": {},
   "outputs": [],
   "source": []
  },
  {
   "cell_type": "code",
   "execution_count": null,
   "metadata": {},
   "outputs": [],
   "source": []
  },
  {
   "cell_type": "code",
   "execution_count": null,
   "metadata": {},
   "outputs": [],
   "source": []
  },
  {
   "cell_type": "code",
   "execution_count": null,
   "metadata": {},
   "outputs": [],
   "source": [
    "# EDA INSIGHTS"
   ]
  },
  {
   "cell_type": "markdown",
   "metadata": {},
   "source": [
    "## 4.FEATURE SELECTION"
   ]
  },
  {
   "cell_type": "code",
   "execution_count": null,
   "metadata": {},
   "outputs": [],
   "source": [
    "'''\n",
    "identify the most important factors/columns/predictors that determine the level of poverty for a household? \n",
    "'''"
   ]
  },
  {
   "cell_type": "code",
   "execution_count": null,
   "metadata": {},
   "outputs": [],
   "source": []
  },
  {
   "cell_type": "code",
   "execution_count": null,
   "metadata": {},
   "outputs": [],
   "source": []
  },
  {
   "cell_type": "code",
   "execution_count": null,
   "metadata": {},
   "outputs": [],
   "source": []
  },
  {
   "cell_type": "code",
   "execution_count": null,
   "metadata": {},
   "outputs": [],
   "source": []
  },
  {
   "cell_type": "markdown",
   "metadata": {},
   "source": [
    "## 5.MODELLING"
   ]
  },
  {
   "cell_type": "markdown",
   "metadata": {},
   "source": [
    "### construct a model to identify the level of poverty for various Costa Rican households"
   ]
  },
  {
   "cell_type": "markdown",
   "metadata": {},
   "source": [
    "#### CLASSIFICATION"
   ]
  },
  {
   "cell_type": "code",
   "execution_count": null,
   "metadata": {},
   "outputs": [],
   "source": []
  },
  {
   "cell_type": "code",
   "execution_count": null,
   "metadata": {},
   "outputs": [],
   "source": []
  },
  {
   "cell_type": "code",
   "execution_count": null,
   "metadata": {},
   "outputs": [],
   "source": []
  },
  {
   "cell_type": "markdown",
   "metadata": {},
   "source": [
    "#### CLUSTERING"
   ]
  },
  {
   "cell_type": "code",
   "execution_count": null,
   "metadata": {},
   "outputs": [],
   "source": [
    "'''\n",
    "In the absence of the ‘target’ column, and with the given features in R3, how accurately can K-Means clustering \n",
    "algorithm help in assigning the class label (determining the poverty level/values of the target column) for a person?\n",
    "'''"
   ]
  },
  {
   "cell_type": "markdown",
   "metadata": {},
   "source": [
    "## 6.PERFORMANCE EVALUATION"
   ]
  },
  {
   "cell_type": "markdown",
   "metadata": {},
   "source": [
    "### Metrics"
   ]
  },
  {
   "cell_type": "code",
   "execution_count": null,
   "metadata": {},
   "outputs": [],
   "source": []
  },
  {
   "cell_type": "code",
   "execution_count": null,
   "metadata": {},
   "outputs": [],
   "source": []
  },
  {
   "cell_type": "code",
   "execution_count": null,
   "metadata": {},
   "outputs": [],
   "source": []
  },
  {
   "cell_type": "markdown",
   "metadata": {},
   "source": [
    "### Visualisation of results"
   ]
  },
  {
   "cell_type": "code",
   "execution_count": null,
   "metadata": {},
   "outputs": [],
   "source": []
  },
  {
   "cell_type": "code",
   "execution_count": null,
   "metadata": {},
   "outputs": [],
   "source": []
  },
  {
   "cell_type": "code",
   "execution_count": null,
   "metadata": {},
   "outputs": [],
   "source": []
  }
 ],
 "metadata": {
  "kernelspec": {
   "display_name": "Python 3",
   "language": "python",
   "name": "python3"
  },
  "language_info": {
   "codemirror_mode": {
    "name": "ipython",
    "version": 3
   },
   "file_extension": ".py",
   "mimetype": "text/x-python",
   "name": "python",
   "nbconvert_exporter": "python",
   "pygments_lexer": "ipython3",
   "version": "3.7.4"
  }
 },
 "nbformat": 4,
 "nbformat_minor": 2
}
